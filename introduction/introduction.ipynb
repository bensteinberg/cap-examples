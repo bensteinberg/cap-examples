{
 "cells": [
  {
   "cell_type": "markdown",
   "metadata": {},
   "source": [
    "## Introduction"
   ]
  },
  {
   "cell_type": "code",
   "execution_count": 12,
   "metadata": {},
   "outputs": [],
   "source": [
    "import sys\n",
    "sys.path.append('..')\n",
    "import requests\n",
    "\n",
    "import utils\n",
    "from config import settings"
   ]
  },
  {
   "cell_type": "markdown",
   "metadata": {},
   "source": [
    "### Get a case with case ID\n",
    "If you have a URL from [case.law](https://case.law/) like this: https://cite.case.law/ark-terr-rep/1/9/236682/ It's easy to download the case.\n",
    "The ID is those six numbers at the end of the URL, `236682`."
   ]
  },
  {
   "cell_type": "code",
   "execution_count": 19,
   "metadata": {},
   "outputs": [
    {
     "name": "stdout",
     "output_type": "stream",
     "text": [
      "{'id': 236682, 'url': 'https://api.case.law/v1/cases/236682/', 'name': 'Hewes Scull vs. Joseph Kuykendall', 'name_abbreviation': 'Scull v. Kuykendall', 'decision_date': '1821-06', 'docket_number': '', 'first_page': '9', 'last_page': '9', 'citations': [{'type': 'official', 'cite': '1 Ark. Terr. Rep. 9'}], 'volume': {'url': 'https://api.case.law/v1/volumes/32044078438371/', 'volume_number': '1', 'barcode': '32044078438371'}, 'reporter': {'url': 'https://api.case.law/v1/reporters/677/', 'full_name': 'Reports of Cases Argued and Determined in the United States Superior Court for the Territory of Arkansas, from 1820 to 1836', 'id': 677}, 'court': {'url': 'https://api.case.law/v1/courts/ark-super-ct-1/', 'name_abbreviation': 'Ark. Super. Ct.', 'slug': 'ark-super-ct-1', 'id': 9132, 'name': 'Superior Court of the Territory of Arkansas'}, 'jurisdiction': {'id': 34, 'name_long': 'Arkansas', 'url': 'https://api.case.law/v1/jurisdictions/ark/', 'slug': 'ark', 'whitelisted': True, 'name': 'Ark.'}, 'cites_to': [], 'frontend_url': 'https://cite.case.law/ark-terr-rep/1/9/236682/', 'frontend_pdf_url': 'https://cite.case.law/pdf/236682/Scull%20v.%20Kuykendall,%201%20Ark.%20Terr.%20Rep.%209%20(1821).pdf', 'preview': [], 'analysis': {'cardinality': 82, 'char_count': 874, 'ocr_confidence': 0.538, 'sha256': 'fc6c0263760e40cd179715b5acbe359d14bb18c5a3bd258130e02a56d85ede08', 'simhash': '1:9866b4c49092a986', 'word_count': 151}, 'last_updated': '2020-08-14T19:37:41.072784+00:00'}\n"
     ]
    }
   ],
   "source": [
    "case_ID = 236682 # this is a whitelisted (the Arkansas jurisdiction is whitelisted) case so no API key is required\n",
    "url = utils.get_api_url() + 'cases/' + str(case_ID)\n",
    "response = requests.get(url)\n",
    "res = response.json()\n",
    "print(res)"
   ]
  },
  {
   "cell_type": "markdown",
   "metadata": {},
   "source": [
    "#### The above contains just the metadata. Let's get the full case body."
   ]
  },
  {
   "cell_type": "code",
   "execution_count": 20,
   "metadata": {},
   "outputs": [
    {
     "name": "stdout",
     "output_type": "stream",
     "text": [
      "https://api.case.law/v1/cases/236682?full_case=true\n",
      "\n",
      "{'id': 236682, 'url': 'https://api.case.law/v1/cases/236682/', 'name': 'Hewes Scull vs. Joseph Kuykendall', 'name_abbreviation': 'Scull v. Kuykendall', 'decision_date': '1821-06', 'docket_number': '', 'first_page': '9', 'last_page': '9', 'citations': [{'type': 'official', 'cite': '1 Ark. Terr. Rep. 9'}], 'volume': {'url': 'https://api.case.law/v1/volumes/32044078438371/', 'volume_number': '1', 'barcode': '32044078438371'}, 'reporter': {'url': 'https://api.case.law/v1/reporters/677/', 'full_name': 'Reports of Cases Argued and Determined in the United States Superior Court for the Territory of Arkansas, from 1820 to 1836', 'id': 677}, 'court': {'url': 'https://api.case.law/v1/courts/ark-super-ct-1/', 'name_abbreviation': 'Ark. Super. Ct.', 'slug': 'ark-super-ct-1', 'id': 9132, 'name': 'Superior Court of the Territory of Arkansas'}, 'jurisdiction': {'id': 34, 'name_long': 'Arkansas', 'url': 'https://api.case.law/v1/jurisdictions/ark/', 'slug': 'ark', 'whitelisted': True, 'name': 'Ark.'}, 'cites_to': [], 'frontend_url': 'https://cite.case.law/ark-terr-rep/1/9/236682/', 'frontend_pdf_url': 'https://cite.case.law/pdf/236682/Scull%20v.%20Kuykendall,%201%20Ark.%20Terr.%20Rep.%209%20(1821).pdf', 'preview': [], 'analysis': {'cardinality': 82, 'char_count': 874, 'ocr_confidence': 0.538, 'sha256': 'fc6c0263760e40cd179715b5acbe359d14bb18c5a3bd258130e02a56d85ede08', 'simhash': '1:9866b4c49092a986', 'word_count': 151}, 'last_updated': '2020-08-14T19:37:41.072784+00:00', 'casebody': {'status': 'ok', 'data': {'judges': [], 'parties': ['Hewes Scull vs. Joseph Kuykendall.'], 'opinions': [{'text': 'Opinion oe the Court. — The court below dismissed this suit because there was an error in the original writ, although it was not served, but an alias had been regularly obtained and served on the defendant. We can see no reason for dismissing the suit for an error in a writ which was never served. It can only be considered as a clerical misprision, by which the defendant could not possibly be prejudiced. The alias capias which was served on the defendant is in every respect correct, and the court ought not to have looked beyond it. Reversed.', 'type': 'majority', 'author': None}], 'attorneys': [], 'corrections': '', 'head_matter': 'Hewes Scull vs. Joseph Kuykendall.\\nA suit should not be dismissed because a capias not served was erroneous when an alias capias executed on the defendant is correct; as the court should not look beyond the last writ.\\nJune, 1821.\\n— Error to Arkansas Circuit Court, determined before Benjamin Johnson and Andrew Scott, judges.'}}}\n"
     ]
    }
   ],
   "source": [
    "url += '?full_case=true' # here we add the flag necessary to see the full case.\n",
    "print(url)\n",
    "print()\n",
    "response = requests.get(url)\n",
    "res = response.json()\n",
    "print(res)"
   ]
  },
  {
   "cell_type": "markdown",
   "metadata": {},
   "source": [
    "#### If we don't know the ID, but we know the citation, we can try to find the same case. In this case, \"1 Ark. Terr. Rep. 9\"."
   ]
  },
  {
   "cell_type": "code",
   "execution_count": 21,
   "metadata": {},
   "outputs": [
    {
     "name": "stdout",
     "output_type": "stream",
     "text": [
      "{'count': 2, 'next': None, 'previous': None, 'results': [{'id': 236682, 'url': 'https://api.case.law/v1/cases/236682/', 'name': 'Hewes Scull vs. Joseph Kuykendall', 'name_abbreviation': 'Scull v. Kuykendall', 'decision_date': '1821-06', 'docket_number': '', 'first_page': '9', 'last_page': '9', 'citations': [{'type': 'official', 'cite': '1 Ark. Terr. Rep. 9'}], 'volume': {'url': 'https://api.case.law/v1/volumes/32044078438371/', 'volume_number': '1', 'barcode': '32044078438371'}, 'reporter': {'url': 'https://api.case.law/v1/reporters/677/', 'full_name': 'Reports of Cases Argued and Determined in the United States Superior Court for the Territory of Arkansas, from 1820 to 1836', 'id': 677}, 'court': {'url': 'https://api.case.law/v1/courts/ark-super-ct-1/', 'name_abbreviation': 'Ark. Super. Ct.', 'slug': 'ark-super-ct-1', 'id': 9132, 'name': 'Superior Court of the Territory of Arkansas'}, 'jurisdiction': {'id': 34, 'name_long': 'Arkansas', 'url': 'https://api.case.law/v1/jurisdictions/ark/', 'slug': 'ark', 'whitelisted': True, 'name': 'Ark.'}, 'cites_to': [], 'frontend_url': 'https://cite.case.law/ark-terr-rep/1/9/236682/', 'frontend_pdf_url': 'https://cite.case.law/pdf/236682/Scull%20v.%20Kuykendall,%201%20Ark.%20Terr.%20Rep.%209%20(1821).pdf', 'preview': [], 'analysis': {'word_count': 151, 'sha256': 'fc6c0263760e40cd179715b5acbe359d14bb18c5a3bd258130e02a56d85ede08', 'ocr_confidence': 0.538, 'char_count': 874, 'cardinality': 82, 'simhash': '1:9866b4c49092a986'}, 'last_updated': '2020-08-14T19:37:41.072784+00:00'}, {'id': 236530, 'url': 'https://api.case.law/v1/cases/236530/', 'name': 'William Neely vs. Robinson et al.', 'name_abbreviation': 'Neely v. Robinson', 'decision_date': '1821-10', 'docket_number': '', 'first_page': '9', 'last_page': '10', 'citations': [{'type': 'official', 'cite': '1 Ark. Terr. Rep. 9'}], 'volume': {'url': 'https://api.case.law/v1/volumes/32044078438371/', 'volume_number': '1', 'barcode': '32044078438371'}, 'reporter': {'url': 'https://api.case.law/v1/reporters/677/', 'full_name': 'Reports of Cases Argued and Determined in the United States Superior Court for the Territory of Arkansas, from 1820 to 1836', 'id': 677}, 'court': {'url': 'https://api.case.law/v1/courts/ark-super-ct-1/', 'name_abbreviation': 'Ark. Super. Ct.', 'slug': 'ark-super-ct-1', 'id': 9132, 'name': 'Superior Court of the Territory of Arkansas'}, 'jurisdiction': {'id': 34, 'name_long': 'Arkansas', 'url': 'https://api.case.law/v1/jurisdictions/ark/', 'slug': 'ark', 'whitelisted': True, 'name': 'Ark.'}, 'cites_to': [{'cite': '10 Johns. 388'}, {'cite': '18 Johns. 24'}, {'cite': '6 Johns. 94'}], 'frontend_url': 'https://cite.case.law/ark-terr-rep/1/9/236530/', 'frontend_pdf_url': 'https://cite.case.law/pdf/236530/Neely%20v.%20Robinson,%201%20Ark.%20Terr.%20Rep.%209%20(1821).pdf', 'preview': [], 'analysis': {'word_count': 309, 'sha256': '170775eb6efe2608051c4649f243eaf0e784a344d9d5cf7d3456433f09aa0e8b', 'ocr_confidence': 0.528, 'char_count': 1717, 'pagerank': {'percentile': 0.008003612997914748, 'raw': 4.688403287882615e-08}, 'cardinality': 169, 'simhash': '1:cabde07bb504e0bd'}, 'last_updated': '2020-09-21T14:17:20.298823+00:00'}]}\n"
     ]
    }
   ],
   "source": [
    "citation = \"1 Ark. Terr. Rep. 9\"\n",
    "url = utils.get_api_url() + 'cases/' + '?cite=' + citation\n",
    "response = requests.get(url)\n",
    "res = response.json()\n",
    "print(res)"
   ]
  },
  {
   "cell_type": "markdown",
   "metadata": {},
   "source": [
    "#### Looking at the results, we can see that there are two cases returned ('count': 2)"
   ]
  },
  {
   "cell_type": "code",
   "execution_count": 27,
   "metadata": {},
   "outputs": [
    {
     "name": "stdout",
     "output_type": "stream",
     "text": [
      "Hewes Scull vs. Joseph Kuykendall\n",
      "[{'type': 'official', 'cite': '1 Ark. Terr. Rep. 9'}]\n",
      "decided on 1821-06\n",
      "\n",
      "William Neely vs. Robinson et al.\n",
      "[{'type': 'official', 'cite': '1 Ark. Terr. Rep. 9'}]\n",
      "decided on 1821-10\n"
     ]
    }
   ],
   "source": [
    "# first case\n",
    "print(res['results'][0]['name'])\n",
    "print(res['results'][0]['citations'])\n",
    "print(\"decided on\", res['results'][0]['decision_date'])\n",
    "\n",
    "print()\n",
    "\n",
    "#second case\n",
    "print(res['results'][1]['name'])\n",
    "print(res['results'][1]['citations'])\n",
    "print(\"decided on\", res['results'][1]['decision_date'])"
   ]
  },
  {
   "cell_type": "markdown",
   "metadata": {},
   "source": [
    "This can happen for various reasons, including both cases being printed on the same page."
   ]
  }
 ],
 "metadata": {
  "kernelspec": {
   "display_name": "Python 3",
   "language": "python",
   "name": "python3"
  },
  "language_info": {
   "codemirror_mode": {
    "name": "ipython",
    "version": 3
   },
   "file_extension": ".py",
   "mimetype": "text/x-python",
   "name": "python",
   "nbconvert_exporter": "python",
   "pygments_lexer": "ipython3",
   "version": "3.7.5"
  }
 },
 "nbformat": 4,
 "nbformat_minor": 1
}
